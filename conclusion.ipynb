{
 "cells": [
  {
   "cell_type": "markdown",
   "metadata": {},
   "source": []
  },
  {
   "cell_type": "code",
   "execution_count": null,
   "metadata": {},
   "outputs": [],
   "source": [
    "polynomial_clusters = [['Apparel', 'Headgear', 'Google', 'Nest-Canada', 'Android'],\n",
    "                        ['Nest-USA', 'Nest', 'Accessories'],\n",
    "                        ['Bags', 'Fun', 'Gift Cards', 'More Bags'],\n",
    "                        ['Drinkware', 'Lifestyle', 'Waze', 'Bottles'],\n",
    "                        ['Office', 'Notebooks & Journals', 'Backpacks', 'Housewares']]\n",
    "fourier_clusters = [['Accessories', 'Nest', 'Waze'],\n",
    "                    ['Bags', 'Drinkware', 'Fun', 'Google', 'Headgear', 'Notebooks & Journals', 'Office'],\n",
    "                    ['Housewares', 'Lifestyle', 'Nest-Canada'],\n",
    "                    ['Android', 'Bottles', 'Gift Cards'],\n",
    "                    ['Apparel', 'Backpacks', 'More Bags', 'Nest-USA']]\n",
    " "
   ]
  }
 ],
 "metadata": {
  "kernelspec": {
   "display_name": "Python 3",
   "language": "python",
   "name": "python3"
  },
  "language_info": {
   "name": "python",
   "version": "3.12.3"
  }
 },
 "nbformat": 4,
 "nbformat_minor": 2
}
