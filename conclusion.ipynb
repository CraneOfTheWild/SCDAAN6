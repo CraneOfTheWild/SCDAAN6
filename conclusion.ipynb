{
 "cells": [
  {
   "cell_type": "markdown",
   "metadata": {},
   "source": [
    "we got from our polynomial and fourier analysis these clusterings"
   ]
  },
  {
   "cell_type": "code",
   "execution_count": null,
   "metadata": {},
   "outputs": [],
   "source": [
    "polynomial_clusters = [['Apparel', 'Headgear', 'Google', 'Nest-Canada', 'Android'],\n",
    "                        ['Nest-USA', 'Nest', 'Accessories'],\n",
    "                        ['Bags', 'Fun', 'Gift Cards', 'More Bags'],\n",
    "                        ['Drinkware', 'Lifestyle', 'Waze', 'Bottles'],\n",
    "                        ['Office', 'Notebooks & Journals', 'Backpacks', 'Housewares']]\n",
    "fourier_clusters = [['Accessories', 'Nest', 'Waze'],\n",
    "                    ['Bags', 'Drinkware', 'Fun', 'Google', 'Headgear', 'Notebooks & Journals', 'Office'],\n",
    "                    ['Housewares', 'Lifestyle', 'Nest-Canada'],\n",
    "                    ['Android', 'Bottles', 'Gift Cards'],\n",
    "                    ['Apparel', 'Backpacks', 'More Bags', 'Nest-USA']]"
   ]
  },
  {
   "cell_type": "markdown",
   "metadata": {},
   "source": [
    "we will now check with ARI (adjusted random index) if these are the same"
   ]
  },
  {
   "cell_type": "code",
   "execution_count": 7,
   "metadata": {},
   "outputs": [
    {
     "name": "stdout",
     "output_type": "stream",
     "text": [
      "[0, 0, 0, 0, 0, 1, 1, 1, 2, 2, 2, 2, 3, 3, 3, 3, 4, 4, 4, 4]\n",
      "[4, 1, 1, 2, 3, 4, 0, 0, 1, 1, 3, 4, 1, 2, 0, 3, 1, 1, 4, 2]\n",
      "Adjusted Rand Index (ARI): -0.06782244236997523\n"
     ]
    }
   ],
   "source": [
    "from sklearn.metrics import adjusted_rand_score\n",
    "import numpy as np\n",
    "import itertools\n",
    "\n",
    "names = list(itertools.chain(*polynomial_clusters))\n",
    "\n",
    "polynomial_labels = []\n",
    "for name in names:\n",
    "    for i, cluster in enumerate(polynomial_clusters):\n",
    "        if name in cluster:\n",
    "            polynomial_labels.append(i)\n",
    "\n",
    "fourier_labels = []\n",
    "for name in names:\n",
    "    for i, cluster in enumerate(fourier_clusters):\n",
    "        if name in cluster:\n",
    "            fourier_labels.append(i)\n",
    "\n",
    "print(polynomial_labels)\n",
    "print(fourier_labels)\n",
    "\n",
    "\n",
    "ari_score = adjusted_rand_score(polynomial_labels, fourier_labels)\n",
    "print(f\"Adjusted Rand Index (ARI): {ari_score}\")"
   ]
  }
 ],
 "metadata": {
  "kernelspec": {
   "display_name": "Python 3",
   "language": "python",
   "name": "python3"
  },
  "language_info": {
   "codemirror_mode": {
    "name": "ipython",
    "version": 3
   },
   "file_extension": ".py",
   "mimetype": "text/x-python",
   "name": "python",
   "nbconvert_exporter": "python",
   "pygments_lexer": "ipython3",
   "version": "3.12.3"
  }
 },
 "nbformat": 4,
 "nbformat_minor": 2
}
